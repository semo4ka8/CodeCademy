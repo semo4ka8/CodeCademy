{
 "cells": [
  {
   "cell_type": "code",
   "execution_count": 2,
   "id": "81128aa0",
   "metadata": {},
   "outputs": [
    {
     "name": "stdout",
     "output_type": "stream",
     "text": [
      "A Elementary school named Horizons with 300 students.\n",
      "Horizons\n",
      "Elementary\n",
      "301\n",
      "A primary school named Horizons with 400 students. The pickup policy is Pickup at 3pm.\n",
      "['Eagles', 'Gusses', 'Pops']\n",
      "A high school named Timberland with 250 students. The sport teams of the school are ['Eagles', 'Gusses', 'Pops'].\n"
     ]
    }
   ],
   "source": [
    "class School:\n",
    "    def __init__(self, name, level, numberOfStudents):\n",
    "        self.name = name\n",
    "        self.level = level\n",
    "        self.numberOfStudents = numberOfStudents\n",
    "\n",
    "    def get_name(self):\n",
    "        return self.name\n",
    "\n",
    "    def get_level(self):\n",
    "        return self.level\n",
    "\n",
    "    def get_numberOfStudents(self):\n",
    "        return self.numberOfStudents\n",
    "\n",
    "    def set_numberOfStudents(self, newnumberOfStudents):\n",
    "        self.numberOfStudents = newnumberOfStudents \n",
    "\n",
    "    def __repr__(self):\n",
    "        return f\"A {self.level} school named {self.name} with {self.numberOfStudents} students.\"\n",
    "\n",
    "my_school = School(\"Horizons\", \"Elementary\", 300)\n",
    "print(my_school)\n",
    "print(my_school.get_name())\n",
    "print(my_school.get_level())\n",
    "my_school.set_numberOfStudents(301)\n",
    "print(my_school.get_numberOfStudents())\n",
    "\n",
    "class PrimarySchool(School):\n",
    "    def __init__(self, name, numberOfStudents, pickupPolicy):\n",
    "        super().__init__(name, 'primary', numberOfStudents)\n",
    "        self.pickupPolicy = pickupPolicy\n",
    "  \n",
    "    def get_pickupPolicy(self):\n",
    "        return self.pickupPolicy\n",
    "\n",
    "    def __repr__(self):\n",
    "        SchoolRepr = super().__repr__()\n",
    "        return SchoolRepr + f\" The pickup policy is {self.pickupPolicy}.\"\n",
    "\n",
    "my_primary = PrimarySchool(\"Horizons\", 400, \"Pickup at 3pm\")\n",
    "print(my_primary)\n",
    "\n",
    "class HighSchool(School):\n",
    "    def __init__(self, name, numberOfStudents, sportsTeams):\n",
    "        super().__init__(name, 'high', numberOfStudents)\n",
    "        self.sportsTeams = sportsTeams\n",
    "\n",
    "    def get_sportsTeams(self):\n",
    "        return self.sportsTeams\n",
    "\n",
    "    def __repr__(self):\n",
    "        SchoolRepr = super().__repr__()\n",
    "        return SchoolRepr + f\" The sport teams of the school are {self.sportsTeams}.\"\n",
    "\n",
    "my_high = HighSchool(\"Timberland\", 250, [\"Eagles\", \"Gusses\", \"Pops\"])\n",
    "print(my_high.get_sportsTeams())\n",
    "print(my_high)  "
   ]
  }
 ],
 "metadata": {
  "kernelspec": {
   "display_name": "Python 3 (ipykernel)",
   "language": "python",
   "name": "python3"
  },
  "language_info": {
   "codemirror_mode": {
    "name": "ipython",
    "version": 3
   },
   "file_extension": ".py",
   "mimetype": "text/x-python",
   "name": "python",
   "nbconvert_exporter": "python",
   "pygments_lexer": "ipython3",
   "version": "3.9.7"
  }
 },
 "nbformat": 4,
 "nbformat_minor": 5
}
