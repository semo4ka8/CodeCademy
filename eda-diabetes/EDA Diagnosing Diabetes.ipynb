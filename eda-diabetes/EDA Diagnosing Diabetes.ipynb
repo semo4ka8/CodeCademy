{
 "cells": [
  {
   "cell_type": "markdown",
   "id": "b69abefe",
   "metadata": {},
   "source": [
    "# EDA: Diagnosing Diabetes"
   ]
  },
  {
   "cell_type": "markdown",
   "id": "8cc3f791",
   "metadata": {},
   "source": [
    "In this project, you'll imagine you are a data scientist interested in exploring data that looks at how certain diagnostic factors affect the diabetes outcome of women patients.\n",
    "\n",
    "You will use your EDA skills to help inspect, clean, and validate the data.\n",
    "\n",
    "**Note**: This [dataset](https://www.kaggle.com/uciml/pima-indians-diabetes-database) is from the National Institute of Diabetes and Digestive and Kidney Diseases. It contains the following columns:\n",
    "\n",
    "- `Pregnancies`: Number of times pregnant\n",
    "- `Glucose`: Plasma glucose concentration per 2 hours in an oral glucose tolerance test\n",
    "- `BloodPressure`: Diastolic blood pressure\n",
    "- `SkinThickness`: Triceps skinfold thickness\n",
    "- `Insulin`: 2-Hour serum insulin\n",
    "- `BMI`: Body mass index\n",
    "- `DiabetesPedigreeFunction`: Diabetes pedigree function\n",
    "- `Age`: Age (years)\n",
    "- `Outcome`: Class variable (0 or 1)\n",
    "\n",
    "Let's get started!"
   ]
  },
  {
   "cell_type": "markdown",
   "id": "8fef3a11",
   "metadata": {},
   "source": [
    "## Initial Inspection"
   ]
  },
  {
   "cell_type": "markdown",
   "id": "6abf892b",
   "metadata": {},
   "source": [
    "1. First, familiarize yourself with the dataset [here](https://www.kaggle.com/uciml/pima-indians-diabetes-database).\n",
    "\n",
    "   Look at each of the nine columns in the documentation.\n",
    "   \n",
    "   What do you expect each data type to be?"
   ]
  },
  {
   "cell_type": "markdown",
   "id": "818b9fcf",
   "metadata": {},
   "source": [
    "Expected data type for each column:\n",
    "\n",
    "- `Pregnancies`: `int64`\n",
    "- `Glucose`: `int64`\n",
    "- `BloodPressure`: `int64`\n",
    "- `SkinThickness`: `int64`\n",
    "- `Insulin`: `int64`\n",
    "- `BMI`: `float64`\n",
    "- `DiabetesPedigreeFunction`: `float64`\n",
    "- `Age`: `int64`\n",
    "- `Outcome`: `int64`"
   ]
  },
  {
   "cell_type": "markdown",
   "id": "4247138f",
   "metadata": {},
   "source": [
    "2. Next, let's load in the diabetes data to start exploring.\n",
    "\n",
    "   Load the data in a variable called `diabetes_data` and print the first few rows.\n",
    "   \n",
    "   **Note**: The data is stored in a file called `diabetes.csv`."
   ]
  },
  {
   "cell_type": "code",
   "execution_count": 1,
   "id": "6c3626fe",
   "metadata": {},
   "outputs": [
    {
     "name": "stdout",
     "output_type": "stream",
     "text": [
      "   Pregnancies  Glucose  BloodPressure  SkinThickness  Insulin   BMI  \\\n",
      "0            6      148             72             35        0  33.6   \n",
      "1            1       85             66             29        0  26.6   \n",
      "2            8      183             64              0        0  23.3   \n",
      "3            1       89             66             23       94  28.1   \n",
      "4            0      137             40             35      168  43.1   \n",
      "\n",
      "   DiabetesPedigreeFunction  Age Outcome  \n",
      "0                     0.627   50       1  \n",
      "1                     0.351   31       0  \n",
      "2                     0.672   32       1  \n",
      "3                     0.167   21       0  \n",
      "4                     2.288   33       1  \n"
     ]
    }
   ],
   "source": [
    "import pandas as pd\n",
    "import numpy as np\n",
    "\n",
    "# load in data\n",
    "diabetes_data = pd.read_csv('E:\\\\Semo4ka\\\\Python\\\\CodeCademy\\\\eda-diabetes\\\\diabetes.csv')\n",
    "print(diabetes_data.head())"
   ]
  },
  {
   "cell_type": "markdown",
   "id": "71286705",
   "metadata": {},
   "source": [
    "3. How many columns (features) does the data contain?"
   ]
  },
  {
   "cell_type": "code",
   "execution_count": 2,
   "id": "f1601c65",
   "metadata": {},
   "outputs": [
    {
     "name": "stdout",
     "output_type": "stream",
     "text": [
      "9\n"
     ]
    }
   ],
   "source": [
    "# print number of columns\n",
    "print(len(diabetes_data.columns))"
   ]
  },
  {
   "cell_type": "markdown",
   "id": "00d6357a",
   "metadata": {},
   "source": [
    "4. How many rows (observations) does the data contain?"
   ]
  },
  {
   "cell_type": "code",
   "execution_count": 3,
   "id": "340fffc1",
   "metadata": {},
   "outputs": [
    {
     "name": "stdout",
     "output_type": "stream",
     "text": [
      "768\n"
     ]
    }
   ],
   "source": [
    "# print number of rows\n",
    "print(len(diabetes_data))"
   ]
  },
  {
   "cell_type": "markdown",
   "id": "a72a10c3",
   "metadata": {},
   "source": [
    "## Further Inspection"
   ]
  },
  {
   "cell_type": "markdown",
   "id": "44fc5b9f",
   "metadata": {},
   "source": [
    "5. Let's inspect `diabetes_data` further.\n",
    "\n",
    "   Do any of the columns in the data contain null (missing) values?"
   ]
  },
  {
   "cell_type": "code",
   "execution_count": 4,
   "id": "aaccf753",
   "metadata": {},
   "outputs": [
    {
     "name": "stdout",
     "output_type": "stream",
     "text": [
      "Pregnancies                 0\n",
      "Glucose                     0\n",
      "BloodPressure               0\n",
      "SkinThickness               0\n",
      "Insulin                     0\n",
      "BMI                         0\n",
      "DiabetesPedigreeFunction    0\n",
      "Age                         0\n",
      "Outcome                     0\n",
      "dtype: int64\n"
     ]
    }
   ],
   "source": [
    "# find whether columns contain null values\n",
    "print(diabetes_data.isnull().sum())"
   ]
  },
  {
   "cell_type": "markdown",
   "id": "fec42b71",
   "metadata": {},
   "source": [
    "6. If you answered no to the question above, not so fast!\n",
    "\n",
    "   While it's technically true that none of the columns contain null values, that doesn't necessarily mean that the data isn't missing any values.\n",
    "   \n",
    "   When exploring data, you should always question your assumptions and try to dig deeper.\n",
    "   \n",
    "   To investigate further, calculate summary statistics on `diabetes_data` using the `.describe()` method."
   ]
  },
  {
   "cell_type": "code",
   "execution_count": 5,
   "id": "97cdcbd5",
   "metadata": {},
   "outputs": [
    {
     "name": "stdout",
     "output_type": "stream",
     "text": [
      "       Pregnancies     Glucose  BloodPressure  SkinThickness     Insulin  \\\n",
      "count   768.000000  768.000000     768.000000     768.000000  768.000000   \n",
      "mean      3.845052  120.894531      69.105469      20.536458   79.799479   \n",
      "std       3.369578   31.972618      19.355807      15.952218  115.244002   \n",
      "min       0.000000    0.000000       0.000000       0.000000    0.000000   \n",
      "25%       1.000000   99.000000      62.000000       0.000000    0.000000   \n",
      "50%       3.000000  117.000000      72.000000      23.000000   30.500000   \n",
      "75%       6.000000  140.250000      80.000000      32.000000  127.250000   \n",
      "max      17.000000  199.000000     122.000000      99.000000  846.000000   \n",
      "\n",
      "              BMI  DiabetesPedigreeFunction         Age  \n",
      "count  768.000000                768.000000  768.000000  \n",
      "mean    31.992578                  0.471876   33.240885  \n",
      "std      7.884160                  0.331329   11.760232  \n",
      "min      0.000000                  0.078000   21.000000  \n",
      "25%     27.300000                  0.243750   24.000000  \n",
      "50%     32.000000                  0.372500   29.000000  \n",
      "75%     36.600000                  0.626250   41.000000  \n",
      "max     67.100000                  2.420000   81.000000  \n"
     ]
    }
   ],
   "source": [
    "# perform summary statistics\n",
    "print(diabetes_data.describe())"
   ]
  },
  {
   "cell_type": "markdown",
   "id": "4bfebc43",
   "metadata": {},
   "source": [
    "7. Looking at the summary statistics, do you notice anything odd about the following columns?\n",
    "\n",
    "   - `Glucose`\n",
    "   - `BloodPressure`\n",
    "   - `SkinThickness`\n",
    "   - `Insulin`\n",
    "   - `BMI`"
   ]
  },
  {
   "cell_type": "markdown",
   "id": "96ad3a84",
   "metadata": {},
   "source": [
    "**Our response to question 7**: If you take a look at the minimum values for these five columns, you'll notice that they are all `0`. \n",
    "\n",
    "Blood Pressure or BMI can not be `0`! These values also seem to be way off from their respective medians and means, another indicator that something is off.\n",
    "\n",
    "One way to interpret this is that there are missing values in the data."
   ]
  },
  {
   "cell_type": "markdown",
   "id": "34fa4277",
   "metadata": {},
   "source": [
    "8. Do you spot any other outliers in the data?"
   ]
  },
  {
   "cell_type": "markdown",
   "id": "eba05a21",
   "metadata": {},
   "source": [
    "**Our response to question 8**: \n",
    "\n",
    "In addition to the `0` values that show up for the columns above, there appear to be additional outliers, such as:\n",
    "\n",
    "- The maximum value of the `Insulin` column is `846`, which is abnormally high.\n",
    "- The maximum value of the `Pregnancies` column is `17`. While having 17 pregnancies is not impossible, this case might be something to look further into to determine its accuracy.\n",
    "\n"
   ]
  },
  {
   "cell_type": "markdown",
   "id": "6463264b",
   "metadata": {},
   "source": [
    "9. Let's see if we can get a more accurate view of the missing values in the data.\n",
    "\n",
    "   We will replace the instances of `0` with `NaN` in the five columns mentioned."
   ]
  },
  {
   "cell_type": "code",
   "execution_count": 6,
   "id": "ec588b46",
   "metadata": {},
   "outputs": [],
   "source": [
    "# replace instances of 0 with NaN\n",
    "diabetes_data[['Glucose', 'BloodPressure', 'SkinThickness', 'Insulin', 'BMI']] =\\\n",
    "    diabetes_data[['Glucose', 'BloodPressure', 'SkinThickness', 'Insulin', 'BMI']].replace(0, np.NaN)"
   ]
  },
  {
   "cell_type": "markdown",
   "id": "e426b00e",
   "metadata": {},
   "source": [
    "10. Next, check for missing (null) values in all of the columns just like you did in Step 5.\n",
    "\n",
    "    Now how many missing values are there?"
   ]
  },
  {
   "cell_type": "code",
   "execution_count": 7,
   "id": "fc6ee5cb",
   "metadata": {},
   "outputs": [
    {
     "name": "stdout",
     "output_type": "stream",
     "text": [
      "Pregnancies                   0\n",
      "Glucose                       5\n",
      "BloodPressure                35\n",
      "SkinThickness               227\n",
      "Insulin                     374\n",
      "BMI                          11\n",
      "DiabetesPedigreeFunction      0\n",
      "Age                           0\n",
      "Outcome                       0\n",
      "dtype: int64\n"
     ]
    }
   ],
   "source": [
    "# find whether columns contain null values after replacements are made\n",
    "print(diabetes_data.isnull().sum())"
   ]
  },
  {
   "cell_type": "markdown",
   "id": "b99f4d98",
   "metadata": {},
   "source": [
    "11. Let's take a closer look at these rows to get a better idea of _why_ some data might be missing.\n",
    "\n",
    "    Print out all the rows that contain missing (null) values."
   ]
  },
  {
   "cell_type": "code",
   "execution_count": 8,
   "id": "6ea89f27",
   "metadata": {},
   "outputs": [
    {
     "name": "stdout",
     "output_type": "stream",
     "text": [
      "     Pregnancies  Glucose  BloodPressure  SkinThickness  Insulin   BMI  \\\n",
      "0              6    148.0           72.0           35.0      NaN  33.6   \n",
      "1              1     85.0           66.0           29.0      NaN  26.6   \n",
      "2              8    183.0           64.0            NaN      NaN  23.3   \n",
      "5              5    116.0           74.0            NaN      NaN  25.6   \n",
      "7             10    115.0            NaN            NaN      NaN  35.3   \n",
      "..           ...      ...            ...            ...      ...   ...   \n",
      "761            9    170.0           74.0           31.0      NaN  44.0   \n",
      "762            9     89.0           62.0            NaN      NaN  22.5   \n",
      "764            2    122.0           70.0           27.0      NaN  36.8   \n",
      "766            1    126.0           60.0            NaN      NaN  30.1   \n",
      "767            1     93.0           70.0           31.0      NaN  30.4   \n",
      "\n",
      "     DiabetesPedigreeFunction  Age Outcome  \n",
      "0                       0.627   50       1  \n",
      "1                       0.351   31       0  \n",
      "2                       0.672   32       1  \n",
      "5                       0.201   30       0  \n",
      "7                       0.134   29       0  \n",
      "..                        ...  ...     ...  \n",
      "761                     0.403   43       1  \n",
      "762                     0.142   33       0  \n",
      "764                     0.340   27       0  \n",
      "766                     0.349   47       1  \n",
      "767                     0.315   23       0  \n",
      "\n",
      "[376 rows x 9 columns]\n"
     ]
    }
   ],
   "source": [
    "# print rows with missing values\n",
    "print(diabetes_data[diabetes_data.isnull().any(axis=1)])"
   ]
  },
  {
   "cell_type": "markdown",
   "id": "d402b91c",
   "metadata": {},
   "source": [
    "12. Go through the rows with missing data. Do you notice any patterns or overlaps between the missing data?"
   ]
  },
  {
   "cell_type": "markdown",
   "id": "650b7d36",
   "metadata": {},
   "source": [
    "**Our response to question 12**: \n",
    "\n",
    "We noticed that most rows with missing data have missing values in more than one column. In fact, every single row with at least one missing value also has a missing value in the `Insulin` column. This is a clue as to why the data is missing! If patients did not have their insulin measured, why might they also not have had these other measurements taken?"
   ]
  },
  {
   "cell_type": "markdown",
   "id": "d2f24ca4",
   "metadata": {},
   "source": [
    "13. Next, take a closer look at the data types of each column in `diabetes_data`.\n",
    "\n",
    "    Does the result match what you would expect?"
   ]
  },
  {
   "cell_type": "code",
   "execution_count": 9,
   "id": "5f3c7eaf",
   "metadata": {},
   "outputs": [
    {
     "name": "stdout",
     "output_type": "stream",
     "text": [
      "<class 'pandas.core.frame.DataFrame'>\n",
      "RangeIndex: 768 entries, 0 to 767\n",
      "Data columns (total 9 columns):\n",
      " #   Column                    Non-Null Count  Dtype  \n",
      "---  ------                    --------------  -----  \n",
      " 0   Pregnancies               768 non-null    int64  \n",
      " 1   Glucose                   763 non-null    float64\n",
      " 2   BloodPressure             733 non-null    float64\n",
      " 3   SkinThickness             541 non-null    float64\n",
      " 4   Insulin                   394 non-null    float64\n",
      " 5   BMI                       757 non-null    float64\n",
      " 6   DiabetesPedigreeFunction  768 non-null    float64\n",
      " 7   Age                       768 non-null    int64  \n",
      " 8   Outcome                   768 non-null    object \n",
      "dtypes: float64(6), int64(2), object(1)\n",
      "memory usage: 54.1+ KB\n",
      "None\n"
     ]
    }
   ],
   "source": [
    "# print data types using .info() method\n",
    "print(diabetes_data.info())"
   ]
  },
  {
   "cell_type": "markdown",
   "id": "2f977f06",
   "metadata": {},
   "source": [
    "14. To figure out why the `Outcome` column is of type `object` (string) instead of type `int64`, print out the unique values in the `Outcome` column."
   ]
  },
  {
   "cell_type": "code",
   "execution_count": 10,
   "id": "d655ddce",
   "metadata": {},
   "outputs": [
    {
     "name": "stdout",
     "output_type": "stream",
     "text": [
      "['1' '0' 'O']\n"
     ]
    }
   ],
   "source": [
    "# print unique values of Outcome column\n",
    "print(diabetes_data.Outcome.unique())"
   ]
  },
  {
   "cell_type": "markdown",
   "id": "9131b29d",
   "metadata": {},
   "source": [
    "15. How might you resolve this issue?"
   ]
  },
  {
   "cell_type": "markdown",
   "id": "5ecc3575",
   "metadata": {},
   "source": [
    "**Our response to question 15**: \n",
    "\n",
    "A possible next step would be to replace instances of `'O'` with `0` and convert the `Outcome` column to type `int64`."
   ]
  },
  {
   "cell_type": "code",
   "execution_count": 11,
   "id": "767e3c02",
   "metadata": {},
   "outputs": [],
   "source": [
    "diabetes_data.Outcome = diabetes_data.Outcome.replace({'O': 0})\n",
    "diabetes_data.Outcome = pd.to_numeric(diabetes_data.Outcome)"
   ]
  },
  {
   "cell_type": "markdown",
   "id": "e26dec30",
   "metadata": {},
   "source": [
    "## Next Steps:"
   ]
  },
  {
   "cell_type": "markdown",
   "id": "95d5deb6",
   "metadata": {},
   "source": [
    "16. Congratulations! In this project, you saw how EDA can help with the initial data inspection and cleaning process. This is an important step as it helps to keep your datasets clean and reliable.\n",
    "\n",
    "    Here are some ways you might extend this project if you'd like:\n",
    "    - Use `.value_counts()` to more fully explore the values in each column.\n",
    "    - Investigate other outliers in the data that may be easily overlooked.\n",
    "    - Instead of changing the `0` values in the five columns to `NaN`, try replacing the values with the median or mean of each column."
   ]
  },
  {
   "cell_type": "code",
   "execution_count": 13,
   "id": "b0b81d1c",
   "metadata": {},
   "outputs": [
    {
     "name": "stdout",
     "output_type": "stream",
     "text": [
      "Values and counts for Pregnancies column\n",
      "0     111\n",
      "1     135\n",
      "2     103\n",
      "3      75\n",
      "4      68\n",
      "5      57\n",
      "6      50\n",
      "7      45\n",
      "8      38\n",
      "9      28\n",
      "10     24\n",
      "11     11\n",
      "12      9\n",
      "13     10\n",
      "14      2\n",
      "15      1\n",
      "17      1\n",
      "Name: Pregnancies, dtype: int64\n",
      "Values and counts for Glucose column\n",
      "44.0     1\n",
      "56.0     1\n",
      "57.0     2\n",
      "61.0     1\n",
      "62.0     1\n",
      "        ..\n",
      "195.0    2\n",
      "196.0    3\n",
      "197.0    4\n",
      "198.0    1\n",
      "199.0    1\n",
      "Name: Glucose, Length: 135, dtype: int64\n",
      "Values and counts for BloodPressure column\n",
      "24.0      1\n",
      "30.0      2\n",
      "38.0      1\n",
      "40.0      1\n",
      "44.0      4\n",
      "46.0      2\n",
      "48.0      5\n",
      "50.0     13\n",
      "52.0     11\n",
      "54.0     11\n",
      "55.0      2\n",
      "56.0     12\n",
      "58.0     21\n",
      "60.0     37\n",
      "61.0      1\n",
      "62.0     34\n",
      "64.0     43\n",
      "65.0      7\n",
      "66.0     30\n",
      "68.0     45\n",
      "70.0     57\n",
      "72.0     44\n",
      "74.0     52\n",
      "75.0      8\n",
      "76.0     39\n",
      "78.0     45\n",
      "80.0     40\n",
      "82.0     30\n",
      "84.0     23\n",
      "85.0      6\n",
      "86.0     21\n",
      "88.0     25\n",
      "90.0     22\n",
      "92.0      8\n",
      "94.0      6\n",
      "95.0      1\n",
      "96.0      4\n",
      "98.0      3\n",
      "100.0     3\n",
      "102.0     1\n",
      "104.0     2\n",
      "106.0     3\n",
      "108.0     2\n",
      "110.0     3\n",
      "114.0     1\n",
      "122.0     1\n",
      "Name: BloodPressure, dtype: int64\n",
      "Values and counts for SkinThickness column\n",
      "7.0      2\n",
      "8.0      2\n",
      "10.0     5\n",
      "11.0     6\n",
      "12.0     7\n",
      "13.0    11\n",
      "14.0     6\n",
      "15.0    14\n",
      "16.0     6\n",
      "17.0    14\n",
      "18.0    20\n",
      "19.0    18\n",
      "20.0    13\n",
      "21.0    10\n",
      "22.0    16\n",
      "23.0    22\n",
      "24.0    12\n",
      "25.0    16\n",
      "26.0    16\n",
      "27.0    23\n",
      "28.0    20\n",
      "29.0    17\n",
      "30.0    27\n",
      "31.0    19\n",
      "32.0    31\n",
      "33.0    20\n",
      "34.0     8\n",
      "35.0    15\n",
      "36.0    14\n",
      "37.0    16\n",
      "38.0     7\n",
      "39.0    18\n",
      "40.0    16\n",
      "41.0    15\n",
      "42.0    11\n",
      "43.0     6\n",
      "44.0     5\n",
      "45.0     6\n",
      "46.0     8\n",
      "47.0     4\n",
      "48.0     4\n",
      "49.0     3\n",
      "50.0     3\n",
      "51.0     1\n",
      "52.0     2\n",
      "54.0     2\n",
      "56.0     1\n",
      "60.0     1\n",
      "63.0     1\n",
      "99.0     1\n",
      "Name: SkinThickness, dtype: int64\n",
      "Values and counts for Insulin column\n",
      "14.0     1\n",
      "15.0     1\n",
      "16.0     1\n",
      "18.0     2\n",
      "22.0     1\n",
      "        ..\n",
      "579.0    1\n",
      "600.0    1\n",
      "680.0    1\n",
      "744.0    1\n",
      "846.0    1\n",
      "Name: Insulin, Length: 185, dtype: int64\n",
      "Values and counts for BMI column\n",
      "18.2    3\n",
      "18.4    1\n",
      "19.1    1\n",
      "19.3    1\n",
      "19.4    1\n",
      "       ..\n",
      "53.2    1\n",
      "55.0    1\n",
      "57.3    1\n",
      "59.4    1\n",
      "67.1    1\n",
      "Name: BMI, Length: 247, dtype: int64\n",
      "Values and counts for DiabetesPedigreeFunction column\n",
      "0.078    1\n",
      "0.084    1\n",
      "0.085    2\n",
      "0.088    2\n",
      "0.089    1\n",
      "        ..\n",
      "1.893    1\n",
      "2.137    1\n",
      "2.288    1\n",
      "2.329    1\n",
      "2.420    1\n",
      "Name: DiabetesPedigreeFunction, Length: 517, dtype: int64\n",
      "Values and counts for Age column\n",
      "21    63\n",
      "22    72\n",
      "23    38\n",
      "24    46\n",
      "25    48\n",
      "26    33\n",
      "27    32\n",
      "28    35\n",
      "29    29\n",
      "30    21\n",
      "31    24\n",
      "32    16\n",
      "33    17\n",
      "34    14\n",
      "35    10\n",
      "36    16\n",
      "37    19\n",
      "38    16\n",
      "39    12\n",
      "40    13\n",
      "41    22\n",
      "42    18\n",
      "43    13\n",
      "44     8\n",
      "45    15\n",
      "46    13\n",
      "47     6\n",
      "48     5\n",
      "49     5\n",
      "50     8\n",
      "51     8\n",
      "52     8\n",
      "53     5\n",
      "54     6\n",
      "55     4\n",
      "56     3\n",
      "57     5\n",
      "58     7\n",
      "59     3\n",
      "60     5\n",
      "61     2\n",
      "62     4\n",
      "63     4\n",
      "64     1\n",
      "65     3\n",
      "66     4\n",
      "67     3\n",
      "68     1\n",
      "69     2\n",
      "70     1\n",
      "72     1\n",
      "81     1\n",
      "Name: Age, dtype: int64\n",
      "Values and counts for Outcome column\n",
      "0    500\n",
      "1    268\n",
      "Name: Outcome, dtype: int64\n"
     ]
    }
   ],
   "source": [
    "def val_and_counts(columns):\n",
    "    for column in columns:\n",
    "        print('Values and counts for {} column'.format(column))\n",
    "        print(diabetes_data[column].value_counts().sort_index())\n",
    "        \n",
    "data_columns = diabetes_data.columns\n",
    "val_and_counts(data_columns)"
   ]
  },
  {
   "cell_type": "markdown",
   "id": "f14c266e",
   "metadata": {},
   "source": [
    "By exploring `SkinThickness` unique values, we found value of 99, wich is not realistic, so we can remove it from our data.\n",
    "\n",
    "Also we will be removing `Pregnancies` with values 14 and abowe.\n",
    "\n",
    "Next we will replace missing `Insulin` values with data's average."
   ]
  },
  {
   "cell_type": "code",
   "execution_count": 17,
   "id": "b4362dd5",
   "metadata": {},
   "outputs": [
    {
     "name": "stdout",
     "output_type": "stream",
     "text": [
      "[35. 29. nan 23. 32. 45. 19. 47. 38. 30. 41. 33. 26. 15. 36. 11. 31. 37.\n",
      " 42. 25. 18. 24. 39. 27. 21. 34. 10. 60. 13. 20. 22. 28. 54. 40. 51. 56.\n",
      " 14. 17. 50. 44. 12. 46. 16.  7. 52. 43. 48.  8. 49. 63.]\n",
      "0      155.69821\n",
      "1      155.69821\n",
      "2      155.69821\n",
      "3       94.00000\n",
      "4      168.00000\n",
      "         ...    \n",
      "763    180.00000\n",
      "764    155.69821\n",
      "765    112.00000\n",
      "766    155.69821\n",
      "767    155.69821\n",
      "Name: Insulin, Length: 763, dtype: float64\n"
     ]
    }
   ],
   "source": [
    "print(diabetes_data.SkinThickness.unique())\n",
    "diabetes_data = diabetes_data[diabetes_data.SkinThickness != 99]\n",
    "\n",
    "preg_val_to_delete = [14, 15, 17]\n",
    "diabetes_data = diabetes_data[diabetes_data.Pregnancies.isin(preg_val_to_delete) == False]\n",
    "\n",
    "\n",
    "diabetes_data['Insulin'] = diabetes_data['Insulin'].fillna(diabetes_data.Insulin.mean())\n",
    "print(diabetes_data.Insulin)"
   ]
  }
 ],
 "metadata": {
  "kernelspec": {
   "display_name": "Python 3 (ipykernel)",
   "language": "python",
   "name": "python3"
  },
  "language_info": {
   "codemirror_mode": {
    "name": "ipython",
    "version": 3
   },
   "file_extension": ".py",
   "mimetype": "text/x-python",
   "name": "python",
   "nbconvert_exporter": "python",
   "pygments_lexer": "ipython3",
   "version": "3.9.7"
  }
 },
 "nbformat": 4,
 "nbformat_minor": 5
}
