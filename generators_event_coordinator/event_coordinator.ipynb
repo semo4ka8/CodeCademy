{
 "cells": [
  {
   "cell_type": "markdown",
   "id": "d931847c",
   "metadata": {},
   "source": [
    "# Event Coordinator\n",
    "\n",
    "You are starting up your own event coordination business and want to create a Python application using generators to help manage your events.\n",
    "\n",
    "This project will help you practice and further master the use of generators by managing and coordinating customer events for your business.\n"
   ]
  },
  {
   "cell_type": "markdown",
   "id": "768f1d12",
   "metadata": {},
   "source": [
    "You are managing your first customer event! You’ve been provided a guestlist of names and their ages that are within the file `guest_list.txt`.\n",
    "\n",
    "Function called `read_guestlist()`  will read in the guestlist file line by line. This function will separate the name and age values and store them into variables named `name` and `age` respectively.\n",
    "\n",
    "Modify this function to be a generator function that will yield each read line so that each guest name is yielded each time for the generator.\n",
    "\n",
    "Using a `for` loop, iterate through the generator object that is retrieved by calling the generator function `read_guestlist()` and print out the first 10 guests on the guestlist.\n"
   ]
  },
  {
   "cell_type": "code",
   "execution_count": 5,
   "id": "32744068",
   "metadata": {},
   "outputs": [
    {
     "name": "stdout",
     "output_type": "stream",
     "text": [
      "('Tim', 22)\n",
      "('Tonya', 45)\n",
      "('Mary', 12)\n",
      "('Ann', 32)\n",
      "('Beth', 20)\n",
      "('Sam', 5)\n",
      "('Manny', 76)\n",
      "('Kenton', 15)\n",
      "('Kenny', 27)\n",
      "('Dixie', 46)\n"
     ]
    }
   ],
   "source": [
    "guests = {}\n",
    "def read_guestlist(file_name):\n",
    "    text_file = open(file_name,'r')\n",
    "    val = None\n",
    "    while True:\n",
    "        if val is not None:\n",
    "            line_data = val.strip().split(\",\")\n",
    "        else:\n",
    "            line_data = text_file.readline().strip().split(\",\")\n",
    "        if len(line_data) < 2:\n",
    "    # If no more lines, close file\n",
    "          text_file.close()\n",
    "          break\n",
    "        name = line_data[0]\n",
    "        age = int(line_data[1])\n",
    "        guests[name] = age\n",
    "        val = yield name, age\n",
    "    \n",
    "\n",
    "guestlist = read_guestlist(\"E:\\\\Semo4ka\\\\Python\\\\CodeCademy\\\\generators_event_coordinator\\\\guest_list.txt\")\n",
    "for guest in range(10):\n",
    "    print(next(guestlist))"
   ]
  },
  {
   "cell_type": "markdown",
   "id": "03e549a9",
   "metadata": {},
   "source": [
    "We’ve printed out our first 10 guests when our phone rings! It’s our customer who has another guest to add to the guestlist.\n",
    "\n",
    "She wants to add a guest with the information: \"Jane,35\". Use one of the three generator methods we have learned to accomplish this.\n"
   ]
  },
  {
   "cell_type": "code",
   "execution_count": 6,
   "id": "d64eab7f",
   "metadata": {},
   "outputs": [
    {
     "name": "stdout",
     "output_type": "stream",
     "text": [
      "('Jane', 35)\n"
     ]
    }
   ],
   "source": [
    "print(guestlist.send(\"Jane,35\"))\n"
   ]
  },
  {
   "cell_type": "markdown",
   "id": "ba6ae38d",
   "metadata": {},
   "source": [
    "We can now finish yielding the rest of the names on the guestlist file to our generator by adding numerous next() calls on the \n",
    "generator object until a StopIteration exception is reached. This can also be accomplished by using a for loop on the generator\n",
    "object to automatically make the appropriate amount of next() calls."
   ]
  },
  {
   "cell_type": "code",
   "execution_count": 7,
   "id": "49a53462",
   "metadata": {},
   "outputs": [
    {
     "name": "stdout",
     "output_type": "stream",
     "text": [
      "('Mallory', 32)\n",
      "('Julian', 4)\n",
      "('Edward', 71)\n",
      "('Rose', 65)\n"
     ]
    }
   ],
   "source": [
    "for guest in range(10, 14):\n",
    "    print(next(guestlist))"
   ]
  },
  {
   "cell_type": "markdown",
   "id": "77546a67",
   "metadata": {},
   "source": [
    "Now that we have all our guests, we want to see which guests are aged 21 and over so that we can inform the bartending vendor.\n",
    "\n",
    "Define a generator expression that will use the guests dictionary to retrieve a generator of names of all guests who are 21 and over.\n",
    "\n",
    "We should see our newly added guest, Jane on this list as well!\n"
   ]
  },
  {
   "cell_type": "code",
   "execution_count": 8,
   "id": "89655280",
   "metadata": {},
   "outputs": [
    {
     "name": "stdout",
     "output_type": "stream",
     "text": [
      "Tim\n",
      "Tonya\n",
      "Ann\n",
      "Manny\n",
      "Kenny\n",
      "Dixie\n",
      "Jane\n",
      "Mallory\n",
      "Edward\n",
      "Rose\n"
     ]
    }
   ],
   "source": [
    "def gests_over21(guests):\n",
    "    for guest in guests:\n",
    "        name = guest\n",
    "        age = guests[name]\n",
    "        if age >= 21:\n",
    "            yield name\n",
    "\n",
    "over21 = gests_over21(guests)\n",
    "for name in over21:\n",
    "    print(name)"
   ]
  },
  {
   "cell_type": "markdown",
   "id": "8706c8e9",
   "metadata": {},
   "source": [
    "Now it’s time to assign meals to each table and the seats at the tables. Our event will have 3 tables with 5 seats at each.\n",
    "\n",
    "Create 3 separate generator functions, one for each table, that will yield tuples of (\"Food Name\", \"Table X\", \"Seat Y\") for each of the 5 seats at each table.\n",
    "\n",
    "You may use the following foods for the tables: Chicken, Beef, Fish.\n"
   ]
  },
  {
   "cell_type": "code",
   "execution_count": 42,
   "id": "653a0e6e",
   "metadata": {},
   "outputs": [],
   "source": [
    "def table_1(Name, Table):\n",
    "    for seat in range(1,6):\n",
    "        yield (Name, \"Chicken\", \"Table 1\", \"Seat {}\".format(Table))\n",
    "\n",
    "def table_2(Name, Table):\n",
    "    for seat in range(1,6):\n",
    "        yield (Name, \"Beef\", \"Table 2\", \"Seat {}\".format(Table))\n",
    "\n",
    "def table_3(Name, Table):\n",
    "    for seat in range(1,6):\n",
    "        yield (Name, \"Fish\", \"Table 3\", \"Seat {}\".format(Table))"
   ]
  },
  {
   "cell_type": "markdown",
   "id": "3d46602d",
   "metadata": {},
   "source": [
    "Finally, we want to assign a table and seat number with meal selection to each guest. Create another generator function that will take in as input our guests dictionary and the connected generator seating/food selection we created in the previous step. This function should yield a tuple of the guest name and the next value from the connected generator."
   ]
  },
  {
   "cell_type": "code",
   "execution_count": 10,
   "id": "138da696",
   "metadata": {},
   "outputs": [],
   "source": [
    "def combined_tables():\n",
    "    yield table_1()\n",
    "    yield table_2()\n",
    "    yield table_3()\n",
    "\n",
    "table_assignment = combined_tables()"
   ]
  },
  {
   "cell_type": "code",
   "execution_count": 43,
   "id": "7c5e6a3a",
   "metadata": {},
   "outputs": [
    {
     "name": "stdout",
     "output_type": "stream",
     "text": [
      "('Tim', 'Chicken', 'Table 1', 'Seat 1')\n",
      "('Tonya', 'Chicken', 'Table 1', 'Seat 2')\n",
      "('Mary', 'Chicken', 'Table 1', 'Seat 3')\n",
      "('Ann', 'Chicken', 'Table 1', 'Seat 4')\n",
      "('Beth', 'Chicken', 'Table 1', 'Seat 5')\n",
      "('Sam', 'Beef', 'Table 2', 'Seat 1')\n",
      "('Manny', 'Beef', 'Table 2', 'Seat 2')\n",
      "('Kenton', 'Beef', 'Table 2', 'Seat 3')\n",
      "('Kenny', 'Beef', 'Table 2', 'Seat 4')\n",
      "('Dixie', 'Beef', 'Table 2', 'Seat 5')\n",
      "('Jane', 'Fish', 'Table 3', 'Seat 1')\n",
      "('Mallory', 'Fish', 'Table 3', 'Seat 2')\n",
      "('Julian', 'Fish', 'Table 3', 'Seat 3')\n",
      "('Edward', 'Fish', 'Table 3', 'Seat 4')\n",
      "('Rose', 'Fish', 'Table 3', 'Seat 5')\n"
     ]
    }
   ],
   "source": [
    "def assign_seating(guests):\n",
    "    counter = 1\n",
    "    for GSTs in guests:\n",
    "        if counter < 6:\n",
    "            yield next(table_1(GSTs, counter))\n",
    "            counter += 1\n",
    "        elif counter < 11:\n",
    "            N = counter - 5\n",
    "            yield next(table_2(GSTs, N))\n",
    "            counter += 1\n",
    "        elif counter < 16:\n",
    "            N = counter - 10\n",
    "            yield next(table_3(GSTs, N))\n",
    "            counter += 1\n",
    "        else:\n",
    "            return \"No More Seats Available\"\n",
    "\n",
    "\n",
    "assignment = assign_seating(guests)\n",
    "\n",
    "for seating in assignment:\n",
    "    print(seating)"
   ]
  },
  {
   "cell_type": "markdown",
   "id": "13ee024e",
   "metadata": {},
   "source": [
    "Congratulations, you were able to successfully plan and coordinate your first event!\n",
    "\n",
    "Through this project, you were able to reinforce what generators are, how they can be created, manipulated, and connected together to perform complex generator operations.\n"
   ]
  }
 ],
 "metadata": {
  "kernelspec": {
   "display_name": "Python 3 (ipykernel)",
   "language": "python",
   "name": "python3"
  },
  "language_info": {
   "codemirror_mode": {
    "name": "ipython",
    "version": 3
   },
   "file_extension": ".py",
   "mimetype": "text/x-python",
   "name": "python",
   "nbconvert_exporter": "python",
   "pygments_lexer": "ipython3",
   "version": "3.9.7"
  }
 },
 "nbformat": 4,
 "nbformat_minor": 5
}
